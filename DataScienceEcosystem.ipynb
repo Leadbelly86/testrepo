{
 "cells": [
  {
   "cell_type": "markdown",
   "id": "c3f96d19-50de-4f8d-a213-8ab03097d46d",
   "metadata": {},
   "source": [
    "# Data Science Tools and Ecosystem\n",
    "In this notebook, Data Science Tools and Ecosystem are summarized."
   ]
  },
  {
   "cell_type": "markdown",
   "id": "48a057b9-6a9e-4000-b8cd-efaf9b858e7e",
   "metadata": {},
   "source": [
    "**Objectives:**\n",
    "- List popular languages for Data Science\n",
    "- List commonly used libraries used by Data Scientists\n",
    "- List Data Science Tools"
   ]
  },
  {
   "cell_type": "markdown",
   "id": "d9d89238-7926-46f1-b3e5-6e27c738c113",
   "metadata": {},
   "source": [
    "## Author: \n",
    "Serhii Pirho"
   ]
  },
  {
   "cell_type": "markdown",
   "id": "e54ef3ab-c020-49f4-a2f8-2ef24b9186c7",
   "metadata": {},
   "source": [
    "Some of the popular languages that Data Scientists use are:\n",
    "1. Python\n",
    "2. R\n",
    "3. Java"
   ]
  },
  {
   "cell_type": "markdown",
   "id": "222b5c67-c3a6-4a6b-9da3-47a5edf750b9",
   "metadata": {},
   "source": [
    "Some of the commonly used libraries used by Data Scientists include:\n",
    "1. matplotlib\n",
    "2. numpy\n",
    "3. pandas"
   ]
  },
  {
   "cell_type": "markdown",
   "id": "8be3e53a-c65c-4d2f-b691-fbf93a7f078f",
   "metadata": {},
   "source": [
    "Data Science Tools|\n",
    "------------------|\n",
    "Apache Spark|\n",
    "IBM Watson Studio|\n",
    "RStudio|"
   ]
  },
  {
   "cell_type": "code",
   "execution_count": null,
   "id": "fb0acd5b-daf9-4b63-9a76-fee5d25394f6",
   "metadata": {},
   "outputs": [],
   "source": []
  },
  {
   "cell_type": "markdown",
   "id": "33da1a0b-49cd-4380-804b-bce72bdf6b7e",
   "metadata": {},
   "source": [
    "### Below are a few examples of evaluating arithmetic expressions in Python"
   ]
  },
  {
   "cell_type": "code",
   "execution_count": 8,
   "id": "a36498c8-9d20-4006-a0e6-b4cb54c1a0b9",
   "metadata": {},
   "outputs": [
    {
     "data": {
      "text/plain": [
       "17"
      ]
     },
     "execution_count": 8,
     "metadata": {},
     "output_type": "execute_result"
    }
   ],
   "source": [
    "#This a simple arithmetic expression to mutiply then add integers\n",
    "(3*4)+5"
   ]
  },
  {
   "cell_type": "code",
   "execution_count": 9,
   "id": "78cd674d-f0d7-4be8-8318-1902778a6890",
   "metadata": {},
   "outputs": [
    {
     "data": {
      "text/plain": [
       "3.3333333333333335"
      ]
     },
     "execution_count": 9,
     "metadata": {},
     "output_type": "execute_result"
    }
   ],
   "source": [
    "#This will convert 200 minutes to hours by diving by 60\n",
    "200/60"
   ]
  }
 ],
 "metadata": {
  "kernelspec": {
   "display_name": "Python 3 (ipykernel)",
   "language": "python",
   "name": "python3"
  },
  "language_info": {
   "codemirror_mode": {
    "name": "ipython",
    "version": 3
   },
   "file_extension": ".py",
   "mimetype": "text/x-python",
   "name": "python",
   "nbconvert_exporter": "python",
   "pygments_lexer": "ipython3",
   "version": "3.12.7"
  }
 },
 "nbformat": 4,
 "nbformat_minor": 5
}
